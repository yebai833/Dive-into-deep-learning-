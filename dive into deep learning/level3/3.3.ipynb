{
 "cells": [
  {
   "cell_type": "markdown",
   "id": "3b038268a558b85e",
   "metadata": {},
   "source": [
    "## 3.3 线性回归的简洁实现"
   ]
  },
  {
   "cell_type": "code",
   "execution_count": 2,
   "id": "3c2f016c88be2682",
   "metadata": {
    "ExecuteTime": {
     "start_time": "2024-10-31T10:00:26.092411Z"
    },
    "jupyter": {
     "is_executing": true
    }
   },
   "outputs": [],
   "source": [
    "import numpy as np\n",
    "import torch\n",
    "from torch.utils import data\n",
    "from d2l import torch as d2l"
   ]
  },
  {
   "cell_type": "markdown",
   "id": "eda5cfcf38a9c6d",
   "metadata": {},
   "source": [
    "### 3.3.1 生成数据集"
   ]
  },
  {
   "cell_type": "code",
   "execution_count": 3,
   "id": "376754eccfb45464",
   "metadata": {},
   "outputs": [],
   "source": [
    "true_w = torch.tensor([2, -3.4])\n",
    "true_b = 4.2\n",
    "features, labels = d2l.synthetic_data(true_w, true_b, 1000)"
   ]
  },
  {
   "cell_type": "markdown",
   "id": "9e698245aa3ae933",
   "metadata": {},
   "source": [
    "### 3.3.2 读取数据集"
   ]
  },
  {
   "cell_type": "code",
   "execution_count": 4,
   "id": "9661946c3bc5f3ad",
   "metadata": {},
   "outputs": [],
   "source": [
    "def load_array(data_arrays, batch_size, is_train=True):\n",
    "    \"\"\"构造一个pytorch数据迭代器\"\"\"\n",
    "    dataset = data.TensorDataset(*data_arrays)\n",
    "    return data.DataLoader(dataset, batch_size, shuffle=is_train)\n",
    "\n",
    "batch_size = 10\n",
    "data_iter = load_array((features, labels), batch_size)"
   ]
  },
  {
   "cell_type": "code",
   "execution_count": 5,
   "id": "5e76508ea7d9bf2a",
   "metadata": {},
   "outputs": [
    {
     "data": {
      "text/plain": [
       "[tensor([[-0.4321,  0.6545],\n",
       "         [ 0.4275, -0.3939],\n",
       "         [-0.3805,  0.6825],\n",
       "         [-0.3136, -0.9929],\n",
       "         [ 0.0290, -0.2655],\n",
       "         [-0.0525,  0.1743],\n",
       "         [ 1.2738, -1.2306],\n",
       "         [-1.0728, -0.9019],\n",
       "         [-0.2718,  0.1828],\n",
       "         [-0.9911,  0.7730]]),\n",
       " tensor([[ 1.1097],\n",
       "         [ 6.3750],\n",
       "         [ 1.1199],\n",
       "         [ 6.9444],\n",
       "         [ 5.1470],\n",
       "         [ 3.4892],\n",
       "         [10.9130],\n",
       "         [ 5.1202],\n",
       "         [ 3.0407],\n",
       "         [-0.4195]])]"
      ]
     },
     "execution_count": 5,
     "metadata": {},
     "output_type": "execute_result"
    }
   ],
   "source": [
    "next(iter(data_iter))   # 返回一个batch的数据"
   ]
  },
  {
   "cell_type": "markdown",
   "id": "2a0f017b6d75aa6c",
   "metadata": {},
   "source": [
    "### 3.3.3 定义模型"
   ]
  },
  {
   "cell_type": "code",
   "execution_count": 6,
   "id": "f7904f77f7056094",
   "metadata": {},
   "outputs": [],
   "source": [
    "#nn是神经网络的缩写\n",
    "from torch import nn\n",
    "\n",
    "net=nn.Sequential(nn.Linear(2,1))  # 定义一个线性回归模型"
   ]
  },
  {
   "cell_type": "markdown",
   "id": "2609a5f1254063b8",
   "metadata": {},
   "source": [
    "### 3.3.4 初始化模型参数"
   ]
  },
  {
   "cell_type": "code",
   "execution_count": 7,
   "id": "46abd7640d6a4801",
   "metadata": {},
   "outputs": [
    {
     "data": {
      "text/plain": [
       "tensor([0.])"
      ]
     },
     "execution_count": 7,
     "metadata": {},
     "output_type": "execute_result"
    }
   ],
   "source": [
    "net[0].weight.data.normal_(0, 0.01)\n",
    "net[0].bias.data.fill_(0)"
   ]
  },
  {
   "cell_type": "markdown",
   "id": "b316b2443bc5bb36",
   "metadata": {},
   "source": [
    "### 3.3.5 定义损失函数"
   ]
  },
  {
   "cell_type": "code",
   "execution_count": 8,
   "id": "a4fd989d9af38826",
   "metadata": {},
   "outputs": [],
   "source": [
    "loss = nn.MSELoss()  # 均方误差损失函数"
   ]
  },
  {
   "cell_type": "markdown",
   "id": "b3c2349a5dd946c2",
   "metadata": {},
   "source": [
    "### 3.3.6 定义优化算法"
   ]
  },
  {
   "cell_type": "code",
   "execution_count": 9,
   "id": "bcddbe7d9f694212",
   "metadata": {},
   "outputs": [],
   "source": [
    "trainer = torch.optim.SGD(net.parameters(), lr=0.03)  # 小批量随机梯度下降"
   ]
  },
  {
   "cell_type": "markdown",
   "id": "d60b2cea73bddd75",
   "metadata": {},
   "source": [
    "### 3.3.7 训练模型"
   ]
  },
  {
   "cell_type": "code",
   "execution_count": 10,
   "id": "810c256b5c08b398",
   "metadata": {},
   "outputs": [
    {
     "name": "stdout",
     "output_type": "stream",
     "text": [
      "epoch 1, loss 0.000240\n",
      "epoch 2, loss 0.000099\n",
      "epoch 3, loss 0.000100\n"
     ]
    }
   ],
   "source": [
    "num_epochs = 3\n",
    "for epoch in range(num_epochs):\n",
    "    for X, y in data_iter:\n",
    "        l = loss(net(X), y)  # X和y的形状必须与net的输入形状一致\n",
    "        trainer.zero_grad()   # 梯度清零\n",
    "        l.backward()         # 反向传播，计算关于net参数的梯度\n",
    "        trainer.step()        # 更新net的参数\n",
    "    l = loss(net(features), labels)\n",
    "    print(f'epoch {epoch + 1}, loss {l:f}')"
   ]
  },
  {
   "cell_type": "markdown",
   "id": "cbf35ba1c1380fc2",
   "metadata": {},
   "source": [
    "### 3.3.8 评价模型"
   ]
  },
  {
   "cell_type": "code",
   "execution_count": 11,
   "id": "98659e57551e315e",
   "metadata": {},
   "outputs": [
    {
     "name": "stdout",
     "output_type": "stream",
     "text": [
      "w的估计误差: tensor([-0.0011, -0.0006])\n",
      "b的估计误差: tensor([0.0002])\n"
     ]
    }
   ],
   "source": [
    "w=net[0].weight.data\n",
    "b=net[0].bias.data \n",
    "print(f'w的估计误差: {true_w - w.reshape(true_w.shape)}')\n",
    "print(f'b的估计误差: {true_b - b}')"
   ]
  },
  {
   "cell_type": "code",
   "execution_count": null,
   "id": "e186e213",
   "metadata": {},
   "outputs": [],
   "source": []
  }
 ],
 "metadata": {
  "kernelspec": {
   "display_name": "Python 3 (ipykernel)",
   "language": "python",
   "name": "python3"
  },
  "language_info": {
   "codemirror_mode": {
    "name": "ipython",
    "version": 3
   },
   "file_extension": ".py",
   "mimetype": "text/x-python",
   "name": "python",
   "nbconvert_exporter": "python",
   "pygments_lexer": "ipython3",
   "version": "3.9.13"
  }
 },
 "nbformat": 4,
 "nbformat_minor": 5
}
