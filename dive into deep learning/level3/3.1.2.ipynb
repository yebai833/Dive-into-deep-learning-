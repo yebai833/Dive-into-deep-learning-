{
 "cells": [
  {
   "cell_type": "code",
   "execution_count": 1,
   "id": "initial_id",
   "metadata": {
    "ExecuteTime": {
     "end_time": "2024-10-30T11:25:26.230706Z",
     "start_time": "2024-10-30T11:25:26.217138Z"
    }
   },
   "outputs": [],
   "source": [
    "%matplotlib inline\n",
    "import math\n",
    "import time\n",
    "import numpy as np\n",
    "import torch\n",
    "from d2l import torch as d2l\n",
    "\n",
    "n=10000\n",
    "a=torch.ones(n)\n",
    "b=torch.ones(n)\n",
    "\n",
    "# 计时器\n",
    "class Timer: #@save\n",
    "    \"\"\"记录多次运行时间\"\"\"\n",
    "    def __init__(self):\n",
    "        self.times=[]\n",
    "        self.start()\n",
    "        \n",
    "    def start(self):\n",
    "        self.tik=time.time()\n",
    "        \n",
    "    def stop(self):\n",
    "        self.times.append(time.time()-self.tik)\n",
    "        return self.times[-1]\n",
    "    \n",
    "    def avg(self):\n",
    "        return sum(self.times)/len(self.times)\n",
    "    \n",
    "    def cumsum(self):\n",
    "        return np.array(self.times).cumsum().tolist()\n",
    "\n",
    "        "
   ]
  },
  {
   "cell_type": "markdown",
   "id": "a5a8a40270c3006f",
   "metadata": {},
   "source": [
    "传统for循环方法"
   ]
  },
  {
   "cell_type": "code",
   "execution_count": 2,
   "id": "bc30b97155ce66f9",
   "metadata": {},
   "outputs": [
    {
     "data": {
      "text/plain": [
       "'0.10304 sec'"
      ]
     },
     "execution_count": 2,
     "metadata": {},
     "output_type": "execute_result"
    }
   ],
   "source": [
    "c=torch.zeros(n)\n",
    "timer=Timer()\n",
    "for i in range(n):\n",
    "    c[i]=a[i]+b[i]\n",
    "f'{timer.stop():.5f} sec' "
   ]
  },
  {
   "cell_type": "markdown",
   "id": "c55f97991e8266ee",
   "metadata": {},
   "source": [
    "向量化方法:使用重载的加法运算符"
   ]
  },
  {
   "cell_type": "code",
   "execution_count": 3,
   "id": "b5bda3061bfef74d",
   "metadata": {},
   "outputs": [
    {
     "data": {
      "text/plain": [
       "'0.00000 sec'"
      ]
     },
     "execution_count": 3,
     "metadata": {},
     "output_type": "execute_result"
    }
   ],
   "source": [
    "timer.start()\n",
    "d=a+b\n",
    "f'{timer.stop():.5f} sec'"
   ]
  },
  {
   "cell_type": "code",
   "execution_count": null,
   "id": "78e9280b",
   "metadata": {},
   "outputs": [],
   "source": []
  }
 ],
 "metadata": {
  "kernelspec": {
   "display_name": "Python 3 (ipykernel)",
   "language": "python",
   "name": "python3"
  },
  "language_info": {
   "codemirror_mode": {
    "name": "ipython",
    "version": 3
   },
   "file_extension": ".py",
   "mimetype": "text/x-python",
   "name": "python",
   "nbconvert_exporter": "python",
   "pygments_lexer": "ipython3",
   "version": "3.9.13"
  }
 },
 "nbformat": 4,
 "nbformat_minor": 5
}
